{
 "cells": [
  {
   "cell_type": "code",
   "execution_count": 2,
   "metadata": {},
   "outputs": [],
   "source": [
    "import pyhtml"
   ]
  },
  {
   "cell_type": "code",
   "execution_count": 3,
   "metadata": {},
   "outputs": [
    {
     "name": "stdout",
     "output_type": "stream",
     "text": [
      "<!DOCTYPE html>\n",
      "<html>\n",
      "  <head></head>\n",
      "  <body>\n",
      "    <h1>\n",
      "      Heading 1\n",
      "    </h1>\n",
      "    <em>\n",
      "      My name is ram\n",
      "    </em>\n",
      "    <strong>\n",
      "      bold\n",
      "    </strong>\n",
      "  </body>\n",
      "  <div>\n",
      "    <h2>\n",
      "      Heading 2\n",
      "    </h2>\n",
      "    <div>\n",
      "      This is a nested div section\n",
      "    </div>\n",
      "  </div>\n",
      "  <div>\n",
      "    <h3>\n",
      "      Heading 3\n",
      "    </h3>\n",
      "    <p>\n",
      "      This is a paragraph\n",
      "    </p>\n",
      "  </div>\n",
      "</html>\n"
     ]
    }
   ],
   "source": [
    "import pyhtml as ht\n",
    "t=ht.html(ht.head(),\n",
    "ht.body(\n",
    "ht.h1(\"Heading 1\"),ht.em(\"My name is ram\"), ht.strong(\"bold\")),\n",
    "ht.div(ht.h2(\"Heading 2\"),\n",
    "ht.div(\"This is a nested div section\")),\n",
    "ht.div(ht.h3(\"Heading 3\"),\n",
    "ht.p(\"This is a paragraph\")),\n",
    ")\n",
    "print(t.render())"
   ]
  },
  {
   "cell_type": "code",
   "execution_count": 4,
   "metadata": {},
   "outputs": [
    {
     "name": "stdout",
     "output_type": "stream",
     "text": [
      "<!DOCTYPE html>\n",
      "<html>\n",
      "  <head></head>\n",
      "  <body>\n",
      "    <h1>\n",
      "      Heading 1\n",
      "    </h1>\n",
      "    <em>\n",
      "      My name is ram\n",
      "    </em>\n",
      "    <strong>\n",
      "      bold\n",
      "    </strong>\n",
      "    <div>\n",
      "      <h2>\n",
      "        Heading 2\n",
      "      </h2>\n",
      "      <div>\n",
      "        This is a nested div section\n",
      "      </div>\n",
      "    </div>\n",
      "    <div>\n",
      "      <h3>\n",
      "        Heading 3\n",
      "      </h3>\n",
      "      <p>\n",
      "        This is a paragraph\n",
      "      </p>\n",
      "    </div>\n",
      "  </body>\n",
      "</html>\n"
     ]
    }
   ],
   "source": [
    "import pyhtml as ht\n",
    "t=ht.html(ht.head(),\n",
    "ht.body(\n",
    "ht.h1(\"Heading 1\"),ht.em(\"My name is ram\"),ht.strong(\"bold\"),\n",
    "ht.div(ht.h2(\"Heading 2\"),\n",
    "ht.div(\"This is a nested div section\")),\n",
    "ht.div(ht.h3(\"Heading 3\"),\n",
    "ht.p(\"This is a paragraph\")),\n",
    "))\n",
    "print(t.render())"
   ]
  }
 ],
 "metadata": {
  "interpreter": {
   "hash": "916dbcbb3f70747c44a77c7bcd40155683ae19c65e1c03b4aa3499c5328201f1"
  },
  "kernelspec": {
   "display_name": "Python 3.10.4 64-bit",
   "language": "python",
   "name": "python3"
  },
  "language_info": {
   "codemirror_mode": {
    "name": "ipython",
    "version": 3
   },
   "file_extension": ".py",
   "mimetype": "text/x-python",
   "name": "python",
   "nbconvert_exporter": "python",
   "pygments_lexer": "ipython3",
   "version": "3.10.4"
  },
  "orig_nbformat": 4
 },
 "nbformat": 4,
 "nbformat_minor": 2
}
